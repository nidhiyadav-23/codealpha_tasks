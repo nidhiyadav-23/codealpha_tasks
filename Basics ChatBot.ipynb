{
 "cells": [
  {
   "cell_type": "code",
   "execution_count": null,
   "id": "af001ee4",
   "metadata": {},
   "outputs": [],
   "source": [
    "      Basics ChatBot\n",
    "\n",
    "Q3.Create a text-based chatbot that can have conversations with users. You can use natural language processing \n",
    "libraries like NLTK or spaCy to make your chatbot more conversational."
   ]
  },
  {
   "cell_type": "code",
   "execution_count": 1,
   "id": "9de8f2f0",
   "metadata": {},
   "outputs": [
    {
     "name": "stdout",
     "output_type": "stream",
     "text": [
      "ChatBot: Hello! Type 'bye' to exit.\n",
      "You: hi\n",
      "ChatBot: Hey! How can I help?\n",
      "You: i need a help\n",
      "ChatBot: I see. What else would you like to talk about?\n",
      "You: nothing\n",
      "ChatBot: I see. What else would you like to talk about?\n",
      "You: exit\n",
      "ChatBot: Goodbye! Have a great day!\n"
     ]
    }
   ],
   "source": [
    "import random\n",
    "import spacy\n",
    "\n",
    "# Load spaCy's small English model\n",
    "nlp = spacy.load(\"en_core_web_sm\")\n",
    "\n",
    "# Predefined responses\n",
    "def get_response(user_input):\n",
    "    user_input = user_input.lower()\n",
    "    doc = nlp(user_input)\n",
    "    \n",
    "    # Simple intent recognition\n",
    "    if any(token.lemma_ in [\"hi\", \"hello\", \"hey\"] for token in doc):\n",
    "        return random.choice([\"Hello! How can I assist you today?\", \"Hi there! What's on your mind?\", \"Hey! How can I help?\",\"I can be your friend?\",\"ok lets talkk more!?\"])\n",
    "    \n",
    "    elif any(token.lemma_ in [\"bye\", \"goodbye\"] for token in doc):\n",
    "        return random.choice([\"Goodbye! Have a great day!\", \"See you later!\", \"Take care!\"])\n",
    "    \n",
    "    elif \"your name\" in user_input:\n",
    "        return \"I'm a chatbot powered by spaCy! You can call me ChatBot.\"\n",
    "    \n",
    "    elif \"weather\" in user_input:\n",
    "        return \"I'm not connected to a weather service, but I can still chat with you!\"\n",
    "    \n",
    "    elif \"joke\" in user_input:\n",
    "        return random.choice([\n",
    "            \"Why don't scientists trust atoms? Because they make up everything!\",\n",
    "            \"Why did the scarecrow win an award? Because he was outstanding in his field!\",\n",
    "            \"What do you get when you cross a snowman and a vampire? Frostbite!\"\n",
    "        ])\n",
    "    \n",
    "    else:\n",
    "        return random.choice([\"I'm not sure I understand. Can you rephrase that?\", \"That's interesting! Tell me more.\", \"I see. What else would you like to talk about?\"])\n",
    "\n",
    "# Main chatbot loop\n",
    "def chatbot():\n",
    "    print(\"ChatBot: Hello! Type 'bye' to exit.\")\n",
    "    while True:\n",
    "        user_input = input(\"You: \")\n",
    "        if user_input.lower() in [\"bye\", \"exit\", \"quit\"]:\n",
    "            print(\"ChatBot: Goodbye! Have a great day!\")\n",
    "            break\n",
    "        response = get_response(user_input)\n",
    "        print(f\"ChatBot: {response}\")\n",
    "\n",
    "if __name__ == \"__main__\":\n",
    "    chatbot()\n"
   ]
  },
  {
   "cell_type": "code",
   "execution_count": null,
   "id": "e94e049a",
   "metadata": {},
   "outputs": [],
   "source": []
  },
  {
   "cell_type": "code",
   "execution_count": null,
   "id": "91948aba",
   "metadata": {},
   "outputs": [],
   "source": []
  }
 ],
 "metadata": {
  "kernelspec": {
   "display_name": "Python 3 (ipykernel)",
   "language": "python",
   "name": "python3"
  },
  "language_info": {
   "codemirror_mode": {
    "name": "ipython",
    "version": 3
   },
   "file_extension": ".py",
   "mimetype": "text/x-python",
   "name": "python",
   "nbconvert_exporter": "python",
   "pygments_lexer": "ipython3",
   "version": "3.11.5"
  }
 },
 "nbformat": 4,
 "nbformat_minor": 5
}
