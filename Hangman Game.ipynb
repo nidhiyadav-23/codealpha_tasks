{
 "cells": [
  {
   "cell_type": "code",
   "execution_count": null,
   "id": "903b4e94",
   "metadata": {},
   "outputs": [],
   "source": [
    "      Hangman Game\n",
    "\n",
    "Q1. Design a text-based Hangman game. The program selects a random word, and the player guesses one letter at a time \n",
    "to uncover the word. You can set a limit on the number of incorrect guesses allowed."
   ]
  },
  {
   "cell_type": "code",
   "execution_count": 1,
   "id": "b7ac9f3f",
   "metadata": {},
   "outputs": [
    {
     "name": "stdout",
     "output_type": "stream",
     "text": [
      "Welcome to Hangman!\n",
      "\n",
      "Word:  _ _ _ _ _ _ _ _ _\n",
      "Guess a letter: a\n",
      "Wrong guess! You have 5 attempts left.\n",
      "\n",
      "Word:  _ _ _ _ _ _ _ _ _\n",
      "Guess a letter: b\n",
      "Wrong guess! You have 4 attempts left.\n",
      "\n",
      "Word:  _ _ _ _ _ _ _ _ _\n",
      "Guess a letter: c\n",
      "Wrong guess! You have 3 attempts left.\n",
      "\n",
      "Word:  _ _ _ _ _ _ _ _ _\n",
      "Guess a letter: g\n",
      "Wrong guess! You have 2 attempts left.\n",
      "\n",
      "Word:  _ _ _ _ _ _ _ _ _\n",
      "Guess a letter: t\n",
      "Wrong guess! You have 1 attempts left.\n",
      "\n",
      "Word:  _ _ _ _ _ _ _ _ _\n",
      "Guess a letter: h\n",
      "Wrong guess! You have 0 attempts left.\n",
      "\n",
      "Game Over! The word was: developer\n"
     ]
    }
   ],
   "source": [
    "import random\n",
    "\n",
    "def choose_word():\n",
    "    words = [\"python\", \"developer\", \"programming\", \"challenge\", \"hangman\", \"computer\", \"keyboard\"]\n",
    "    return random.choice(words)\n",
    "\n",
    "def display_word(word, guessed_letters):\n",
    "    return \" \".join(letter if letter in guessed_letters else \"_\" for letter in word)\n",
    "\n",
    "def hangman():\n",
    "    word = choose_word()\n",
    "    guessed_letters = set()\n",
    "    incorrect_guesses = 0\n",
    "    max_attempts = 6\n",
    "    \n",
    "    print(\"Welcome to Hangman!\")\n",
    "    \n",
    "    while incorrect_guesses < max_attempts:\n",
    "        print(\"\\nWord: \", display_word(word, guessed_letters))\n",
    "        guess = input(\"Guess a letter: \").lower()\n",
    "        \n",
    "        if len(guess) != 1 or not guess.isalpha():\n",
    "            print(\"Invalid input. Please enter a single letter.\")\n",
    "            continue\n",
    "        \n",
    "        if guess in guessed_letters:\n",
    "            print(\"You already guessed that letter.\")\n",
    "            continue\n",
    "        \n",
    "        guessed_letters.add(guess)\n",
    "        \n",
    "        if guess in word:\n",
    "            print(\"Good job! The letter is in the word.\")\n",
    "        else:\n",
    "            incorrect_guesses += 1\n",
    "            print(f\"Wrong guess! You have {max_attempts - incorrect_guesses} attempts left.\")\n",
    "        \n",
    "        if set(word).issubset(guessed_letters):\n",
    "            print(\"\\nCongratulations! You guessed the word:\", word)\n",
    "            return\n",
    "    \n",
    "    print(\"\\nGame Over! The word was:\", word)\n",
    "\n",
    "if __name__ == \"__main__\":\n",
    "    hangman()\n"
   ]
  },
  {
   "cell_type": "code",
   "execution_count": null,
   "id": "1f779e3f",
   "metadata": {},
   "outputs": [],
   "source": []
  }
 ],
 "metadata": {
  "kernelspec": {
   "display_name": "Python 3 (ipykernel)",
   "language": "python",
   "name": "python3"
  },
  "language_info": {
   "codemirror_mode": {
    "name": "ipython",
    "version": 3
   },
   "file_extension": ".py",
   "mimetype": "text/x-python",
   "name": "python",
   "nbconvert_exporter": "python",
   "pygments_lexer": "ipython3",
   "version": "3.11.5"
  }
 },
 "nbformat": 4,
 "nbformat_minor": 5
}
